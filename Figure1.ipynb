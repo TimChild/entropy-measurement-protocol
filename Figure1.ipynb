{
 "cells": [
  {
   "cell_type": "markdown",
   "id": "7595ddc8",
   "metadata": {},
   "source": [
    "## Required Imports"
   ]
  },
  {
   "cell_type": "code",
   "execution_count": 1,
   "id": "4e8bade4",
   "metadata": {},
   "outputs": [],
   "source": [
    "import h5py\n",
    "import matplotlib.pyplot as plt\n",
    "\n",
    "from common import save_to_igor_itx"
   ]
  },
  {
   "cell_type": "markdown",
   "id": "5537fddc",
   "metadata": {},
   "source": [
    "## Data"
   ]
  },
  {
   "cell_type": "code",
   "execution_count": 2,
   "id": "9a511900",
   "metadata": {},
   "outputs": [],
   "source": [
    "with h5py.File('data/dat762.h5', 'r') as f:\n",
    "    data = f['cscurrent_2d'][:]\n",
    "    x = f['x_array'][:]"
   ]
  },
  {
   "cell_type": "markdown",
   "id": "5fd9c315",
   "metadata": {},
   "source": [
    "## Quick plot before exporting data to Igor for final Figure"
   ]
  },
  {
   "cell_type": "code",
   "execution_count": 3,
   "id": "b8172c25",
   "metadata": {},
   "outputs": [
    {
     "data": {
      "text/plain": [
       "[<matplotlib.lines.Line2D at 0x1cc92d4a5f0>]"
      ]
     },
     "execution_count": 3,
     "metadata": {},
     "output_type": "execute_result"
    },
    {
     "data": {
      "image/png": "[encoded data removed]",
      "text/plain": [
       "<Figure size 432x288 with 1 Axes>"
      ]
     },
     "metadata": {
      "needs_background": "light"
     },
     "output_type": "display_data"
    }
   ],
   "source": [
    "plt.plot(x, data[22])"
   ]
  },
  {
   "cell_type": "markdown",
   "id": "89b7600c",
   "metadata": {},
   "source": [
    "## Save to .itx file for final Figure in Igor"
   ]
  },
  {
   "cell_type": "code",
   "execution_count": 4,
   "id": "ab95a73b",
   "metadata": {},
   "outputs": [
    {
     "name": "stderr",
     "output_type": "stream",
     "text": [
      "WARNING:root:exports/ChargeSensorTrace.itx: Igor doesn't support a non-linear x-axis. Saving as separate wave\n"
     ]
    }
   ],
   "source": [
    "save_to_igor_itx(\"exports/ChargeSensorTrace.itx\", [x], [data[22]], [\"charge_sensor_trace\"])"
   ]
  }
 ],
 "metadata": {
  "kernelspec": {
   "display_name": "Python 3 (ipykernel)",
   "language": "python",
   "name": "python3"
  },
  "language_info": {
   "codemirror_mode": {
    "name": "ipython",
    "version": 3
   },
   "file_extension": ".py",
   "mimetype": "text/x-python",
   "name": "python",
   "nbconvert_exporter": "python",
   "pygments_lexer": "ipython3",
   "version": "3.10.0"
  }
 },
 "nbformat": 4,
 "nbformat_minor": 5
}
