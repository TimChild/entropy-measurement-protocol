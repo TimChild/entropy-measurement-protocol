{
 "cells": [
  {
   "cell_type": "markdown",
   "id": "7595ddc8",
   "metadata": {},
   "source": [
    "## Required Imports"
   ]
  },
  {
   "cell_type": "code",
   "execution_count": 1,
   "id": "4e8bade4",
   "metadata": {},
   "outputs": [],
   "source": [
    "import h5py\n",
    "import matplotlib.pyplot as plt\n",
    "from dataclasses import dataclass\n",
    "import numpy as np\n",
    "import os\n",
    "import json\n",
    "import lmfit as lm\n",
    "\n",
    "from common import save_to_igor_itx, calculate_fit, get_data_index, i_sense, mean_data\n",
    "\n",
    "\n",
    "local_data_path = 'D:/Measurements/FebMar21/Experiment_Data'"
   ]
  },
  {
   "cell_type": "markdown",
   "id": "5537fddc",
   "metadata": {},
   "source": [
    "## Data"
   ]
  },
  {
   "cell_type": "code",
   "execution_count": 2,
   "id": "9a511900",
   "metadata": {},
   "outputs": [],
   "source": [
    "datnums = list(range(7437, 7844+1))\n",
    "\n",
    "@dataclass\n",
    "class DataEntry:\n",
    "    data2d: np.ndarray\n",
    "    x: np.ndarray\n",
    "    y: np.ndarray  # Generally will just be repeat number\n",
    "    i_heat: float\n",
    "    fridge_temp: float\n",
    "    datnum: int\n",
    "    data_avg: np.ndarray = None\n",
    "    x_avg: np.ndarray = None\n",
    "\n",
    "\n",
    "data_entries = list()\n",
    "for num in datnums:\n",
    "    with h5py.File(os.path.join(local_data_path, f'Dat{num}.h5'), 'r') as f:\n",
    "        data = f['cscurrent_2d'][:]\n",
    "        x = f['x_array'][:]\n",
    "        y = f['y_array'][:]\n",
    "        sweeplogs = json.loads(f['metadata'].attrs['sweep_logs'])\n",
    "\n",
    "        i_heat = sweeplogs['FastDAC 1']['DAC6{HO1/10M}']/10  # Bias applied in mV through 10 Mohm resistor\n",
    "        fridge_temp = sweeplogs['Lakeshore']['Temperature']['MC K']\n",
    "\n",
    "    data_entries.append(DataEntry(data, x, y, i_heat, fridge_temp, num))\n",
    "\n",
    "\n"
   ]
  },
  {
   "cell_type": "code",
   "execution_count": 3,
   "outputs": [],
   "source": [
    "# for entry in data_entries:\n",
    "#     print(f'{entry.datnum}:\\n \\t{entry.i_heat:.1f} nA\\n\\t{entry.fridge_temp*1000:.0f} mK')"
   ],
   "metadata": {
    "collapsed": false,
    "pycharm": {
     "name": "#%%\n"
    }
   }
  },
  {
   "cell_type": "code",
   "execution_count": 4,
   "outputs": [],
   "source": [
    "def fit_restricted_width(x, data, params, func, start_x: float, end_x: float):\n",
    "    indexes = get_data_index(x, [start_x, end_x], is_sorted=True)\n",
    "    x = x[indexes[0]:indexes[1]]\n",
    "    data = data[indexes[0]: indexes[1]]\n",
    "    return calculate_fit(x, data, params, func)"
   ],
   "metadata": {
    "collapsed": false,
    "pycharm": {
     "name": "#%%\n"
    }
   }
  },
  {
   "cell_type": "code",
   "execution_count": 7,
   "outputs": [],
   "source": [
    "width = 2500  # -2500 -> 2500 is full scan\n",
    "params = lm.Parameters()\n",
    "params.add_many(\n",
    "    ('mid', 0, True, None, None, None, None),\n",
    "    ('theta', 5, True, 0.01, None, None, None),\n",
    "    ('amp', 1, True, 0, None, None, None),\n",
    "    ('lin', 0.001, True, 0, None, None, None),\n",
    "    ('const', 5, True, None, None, None, None)\n",
    ")\n",
    "for entry in data_entries:\n",
    "    fits = [fit_restricted_width(entry.x, data_1d, params, i_sense, -width, width) for data_1d in entry.data2d]\n",
    "    centers = [fit.params['mid'].value for fit in fits]\n",
    "    avg_data, avg_x = mean_data(entry.x, entry.data2d, centers, return_x=True)\n",
    "    entry.data_avg = avg_data\n",
    "    entry.x_avg = avg_x"
   ],
   "metadata": {
    "collapsed": false,
    "pycharm": {
     "name": "#%%\n"
    }
   }
  },
  {
   "cell_type": "markdown",
   "source": [
    "## T = 100mK Quadratic Fit"
   ],
   "metadata": {
    "collapsed": false,
    "pycharm": {
     "name": "#%% md\n"
    }
   },
   "execution_count": 8
  },
  {
   "cell_type": "code",
   "execution_count": 19,
   "outputs": [],
   "source": [
    "data_100mk = [entry for entry in data_entries if np.isclose(entry.fridge_temp*1000, 100, atol=5) and abs(entry.i_heat) < 3]\n",
    "\n",
    "data_100mk = list(sorted(data_100mk, key=lambda e: e.i_heat))\n",
    "\n",
    "width = 500\n",
    "params = lm.Parameters()\n",
    "params.add_many(\n",
    "    ('mid', 0, True, None, None, None, None),\n",
    "    ('theta', 5, True, 0.01, None, None, None),\n",
    "    ('amp', 1, True, 0, None, None, None),\n",
    "    ('lin', 0.001, True, 0, None, None, None),\n",
    "    ('const', 5, True, None, None, None, None)\n",
    ")\n",
    "\n",
    "fits = [fit_restricted_width(e.x_avg, e.data_avg, params, i_sense, -width, width) for e in data_100mk]\n",
    "thetas = np.array([fit.params['theta'].value for fit in fits])\n",
    "biases = np.array([e.i_heat for e in data_100mk])\n",
    "\n",
    "quad = lm.models.QuadraticModel()\n",
    "quad_params = quad.guess(thetas, biases)\n",
    "quad_fit = quad.fit(thetas, x=biases, params=quad_params)"
   ],
   "metadata": {
    "collapsed": false,
    "pycharm": {
     "name": "#%%\n"
    }
   }
  },
  {
   "cell_type": "markdown",
   "id": "5fd9c315",
   "metadata": {},
   "source": [
    "## Quick plot before exporting data to Igor for final Figure"
   ]
  },
  {
   "cell_type": "code",
   "execution_count": 21,
   "id": "b8172c25",
   "metadata": {},
   "outputs": [
    {
     "data": {
      "text/plain": "[<matplotlib.lines.Line2D at 0x20e87853010>]"
     },
     "execution_count": 21,
     "metadata": {},
     "output_type": "execute_result"
    },
    {
     "data": {
      "text/plain": "<Figure size 432x288 with 1 Axes>",
      "image/png": "[encoded data removed]"
     },
     "metadata": {
      "needs_background": "light"
     },
     "output_type": "display_data"
    }
   ],
   "source": [
    "fig, ax = plt.subplots(1)\n",
    "ax.plot(biases, thetas, 'bx')\n",
    "ax.plot(biases, quad_fit.eval(x=biases), '-r')"
   ]
  },
  {
   "cell_type": "markdown",
   "id": "89b7600c",
   "metadata": {},
   "source": [
    "## Save to .itx file for final Figure in Igor"
   ]
  },
  {
   "cell_type": "code",
   "execution_count": 22,
   "id": "ab95a73b",
   "metadata": {},
   "outputs": [
    {
     "name": "stderr",
     "output_type": "stream",
     "text": [
      "WARNING:root:exports/100mk thetas.itx: Igor doesn't support a non-linear x-axis. Saving as separate wave\n",
      "WARNING:root:exports/100mk thetas.itx: Igor doesn't support a non-linear x-axis. Saving as separate wave\n"
     ]
    }
   ],
   "source": [
    "save_to_igor_itx(\"exports/100mk thetas.itx\", [biases, biases], [thetas, quad_fit.eval(x=biases)], [\"theta100_data\", \"theta100_quad_fit\"])"
   ]
  },
  {
   "cell_type": "markdown",
   "source": [
    "## Varying Fridge T data"
   ],
   "metadata": {
    "collapsed": false,
    "pycharm": {
     "name": "#%% md\n"
    }
   }
  },
  {
   "cell_type": "code",
   "execution_count": 23,
   "outputs": [],
   "source": [
    "def quad_heat_phonon_cool_func(x, R, a, b, Tph):\n",
    "    return np.abs(np.sqrt((a/R**2)*(x**2 - Tph**2) + (b/R)*(x**5 - Tph**5)))\n",
    "\n",
    "imodel = lm.Model(quad_heat_phonon_cool_func)\n",
    "phonon_params = lm.Parameters()\n",
    "phonon_params.add('R', value=1, min=0, max=10000, vary=True)\n",
    "phonon_params.add('a', value=0.4, min=1e-7, max=100, vary=True)\n",
    "phonon_params.add('b', value=10, min=0, max=100, vary=True)\n",
    "phonon_params.add('Tph', value=0.09, min=0, max=200, vary=False)\n",
    "\n",
    "transition_params = lm.Parameters()\n",
    "transition_params.add_many(\n",
    "    ('mid', 0, True, None, None, None, None),\n",
    "    ('theta', 5, True, 0.01, None, None, None),\n",
    "    ('amp', 1, True, 0, None, None, None),\n",
    "    ('lin', 0.001, True, 0, None, None, None),\n",
    "    ('const', 5, True, None, None, None, None)\n",
    ")\n"
   ],
   "metadata": {
    "collapsed": false,
    "pycharm": {
     "name": "#%%\n"
    }
   }
  },
  {
   "cell_type": "code",
   "execution_count": 27,
   "outputs": [],
   "source": [
    "temps = [50, 100, 200, 300, 400, 500]\n",
    "width = 2500\n",
    "\n",
    "results = {}\n",
    "for temp in temps:\n",
    "    datas = [entry for entry in data_entries if np.isclose(entry.fridge_temp*1000, temp, atol=10) and entry.i_heat >= 0]\n",
    "    datas = list(sorted(datas, key=lambda entry: entry.i_heat))\n",
    "    biases = np.array([e.i_heat for e in datas])\n",
    "    transition_fits = [fit_restricted_width(e.x_avg, e.data_avg, transition_params, i_sense, -width, width) for e in datas]\n",
    "    thetas = np.array([fit.params['theta'].value for fit in transition_fits])\n",
    "\n",
    "    # phonon_fit = imodel.fit(biases, x=thetas, params=phonon_params)\n",
    "    phonon_fit = None\n",
    "\n",
    "    results[temp] = dict(biases = biases, thetas = thetas, fit = phonon_fit)"
   ],
   "metadata": {
    "collapsed": false,
    "pycharm": {
     "name": "#%%\n"
    }
   }
  },
  {
   "cell_type": "markdown",
   "source": [
    "## Quick plot before exporting"
   ],
   "metadata": {
    "collapsed": false,
    "pycharm": {
     "name": "#%% md\n"
    }
   }
  },
  {
   "cell_type": "code",
   "execution_count": 28,
   "outputs": [
    {
     "data": {
      "text/plain": "<Figure size 432x288 with 1 Axes>",
      "image/png": "[encoded data removed]"
     },
     "metadata": {
      "needs_background": "light"
     },
     "output_type": "display_data"
    }
   ],
   "source": [
    "fig, ax = plt.subplots(1)\n",
    "for temp, d in results.items():\n",
    "    x = d['biases']\n",
    "    ax.plot(x, d['thetas'], linestyle='-', label=temp)\n",
    "    # ax.plot(x, d['fit'].eval(x=x), linestyle=':', label=f'{temp}_fit')\n",
    "\n"
   ],
   "metadata": {
    "collapsed": false,
    "pycharm": {
     "name": "#%%\n"
    }
   }
  },
  {
   "cell_type": "markdown",
   "source": [
    "## Save to .itx file for final Figure in Igor"
   ],
   "metadata": {
    "collapsed": false,
    "pycharm": {
     "name": "#%% md\n"
    }
   }
  },
  {
   "cell_type": "code",
   "execution_count": 29,
   "outputs": [
    {
     "name": "stderr",
     "output_type": "stream",
     "text": [
      "WARNING:root:exports/all temp thetas.itx: Igor doesn't support a non-linear x-axis. Saving as separate wave\n",
      "WARNING:root:exports/all temp thetas.itx: Igor doesn't support a non-linear x-axis. Saving as separate wave\n",
      "WARNING:root:exports/all temp thetas.itx: Igor doesn't support a non-linear x-axis. Saving as separate wave\n",
      "WARNING:root:exports/all temp thetas.itx: Igor doesn't support a non-linear x-axis. Saving as separate wave\n",
      "WARNING:root:exports/all temp thetas.itx: Igor doesn't support a non-linear x-axis. Saving as separate wave\n",
      "WARNING:root:exports/all temp thetas.itx: Igor doesn't support a non-linear x-axis. Saving as separate wave\n"
     ]
    }
   ],
   "source": [
    "save_to_igor_itx(\"exports/all temp thetas.itx\",\n",
    "                 xs = [d['biases'] for d in results.values()],\n",
    "                 datas = [d['thetas'] for d in results.values()],\n",
    "                 names = [f'{k}mk all temps.itx' for k in results.keys()]\n",
    "                 )"
   ],
   "metadata": {
    "collapsed": false,
    "pycharm": {
     "name": "#%%\n"
    }
   }
  },
  {
   "cell_type": "code",
   "execution_count": null,
   "outputs": [],
   "source": [],
   "metadata": {
    "collapsed": false,
    "pycharm": {
     "name": "#%%\n"
    }
   }
  }
 ],
 "metadata": {
  "kernelspec": {
   "display_name": "Python 3 (ipykernel)",
   "language": "python",
   "name": "python3"
  },
  "language_info": {
   "codemirror_mode": {
    "name": "ipython",
    "version": 3
   },
   "file_extension": ".py",
   "mimetype": "text/x-python",
   "name": "python",
   "nbconvert_exporter": "python",
   "pygments_lexer": "ipython3",
   "version": "3.10.0"
  }
 },
 "nbformat": 4,
 "nbformat_minor": 5
}